{
 "cells": [
  {
   "cell_type": "code",
   "execution_count": 132,
   "metadata": {
    "_cell_guid": "b1076dfc-b9ad-4769-8c92-a6c4dae69d19",
    "_uuid": "8f2839f25d086af736a60e9eeb907d3b93b6e0e5",
    "colab": {},
    "colab_type": "code",
    "id": "U2D2gTdJVp90"
   },
   "outputs": [],
   "source": [
    "import pandas as pd\n",
    "from itertools import combinations\n",
    "from calendar import month_name"
   ]
  },
  {
   "cell_type": "code",
   "execution_count": 133,
   "metadata": {
    "_cell_guid": "79c7e3d0-c299-4dcb-8224-4455121ee9b0",
    "_uuid": "d629ff2d2480ee46fbb7e2d37f6b5fab8052498a",
    "colab": {},
    "colab_type": "code",
    "id": "oyGfxL3eVp9-"
   },
   "outputs": [
    {
     "data": {
      "text/html": [
       "<div>\n",
       "<style scoped>\n",
       "    .dataframe tbody tr th:only-of-type {\n",
       "        vertical-align: middle;\n",
       "    }\n",
       "\n",
       "    .dataframe tbody tr th {\n",
       "        vertical-align: top;\n",
       "    }\n",
       "\n",
       "    .dataframe thead th {\n",
       "        text-align: right;\n",
       "    }\n",
       "</style>\n",
       "<table border=\"1\" class=\"dataframe\">\n",
       "  <thead>\n",
       "    <tr style=\"text-align: right;\">\n",
       "      <th></th>\n",
       "      <th>imdb_id</th>\n",
       "      <th>budget</th>\n",
       "      <th>revenue</th>\n",
       "      <th>original_title</th>\n",
       "      <th>cast</th>\n",
       "      <th>director</th>\n",
       "      <th>tagline</th>\n",
       "      <th>overview</th>\n",
       "      <th>runtime</th>\n",
       "      <th>genres</th>\n",
       "      <th>production_companies</th>\n",
       "      <th>release_date</th>\n",
       "      <th>vote_average</th>\n",
       "      <th>release_year</th>\n",
       "    </tr>\n",
       "  </thead>\n",
       "  <tbody>\n",
       "    <tr>\n",
       "      <th>112</th>\n",
       "      <td>tt1018765</td>\n",
       "      <td>28000000</td>\n",
       "      <td>7002261</td>\n",
       "      <td>Our Brand Is Crisis</td>\n",
       "      <td>Sandra Bullock|Anthony Mackie|Billy Bob Thornt...</td>\n",
       "      <td>David Gordon Green</td>\n",
       "      <td>May the best campaign win.</td>\n",
       "      <td>A feature film based on the documentary \"Our B...</td>\n",
       "      <td>108</td>\n",
       "      <td>Drama|Comedy</td>\n",
       "      <td>Participant Media|Smokehouse Pictures</td>\n",
       "      <td>9/11/2015</td>\n",
       "      <td>5.7</td>\n",
       "      <td>2015</td>\n",
       "    </tr>\n",
       "    <tr>\n",
       "      <th>2</th>\n",
       "      <td>tt2908446</td>\n",
       "      <td>110000000</td>\n",
       "      <td>295238201</td>\n",
       "      <td>Insurgent</td>\n",
       "      <td>Shailene Woodley|Theo James|Kate Winslet|Ansel...</td>\n",
       "      <td>Robert Schwentke</td>\n",
       "      <td>One Choice Can Destroy You</td>\n",
       "      <td>Beatrice Prior must confront her inner demons ...</td>\n",
       "      <td>119</td>\n",
       "      <td>Adventure|Science Fiction|Thriller</td>\n",
       "      <td>Summit Entertainment|Mandeville Films|Red Wago...</td>\n",
       "      <td>3/18/2015</td>\n",
       "      <td>6.3</td>\n",
       "      <td>2015</td>\n",
       "    </tr>\n",
       "    <tr>\n",
       "      <th>1868</th>\n",
       "      <td>tt0204175</td>\n",
       "      <td>16000000</td>\n",
       "      <td>20627372</td>\n",
       "      <td>Boys and Girls</td>\n",
       "      <td>Freddie Prinze Jr.|Claire Forlani|Jason Biggs|...</td>\n",
       "      <td>Robert Iscove</td>\n",
       "      <td>Warning: Sex Changes Everything</td>\n",
       "      <td>Ryan and Jennifer are opposites who definitely...</td>\n",
       "      <td>94</td>\n",
       "      <td>Comedy|Drama|Romance</td>\n",
       "      <td>Dimension Films</td>\n",
       "      <td>6/16/2000</td>\n",
       "      <td>5.3</td>\n",
       "      <td>2000</td>\n",
       "    </tr>\n",
       "    <tr>\n",
       "      <th>1566</th>\n",
       "      <td>tt0372183</td>\n",
       "      <td>75000000</td>\n",
       "      <td>288500217</td>\n",
       "      <td>The Bourne Supremacy</td>\n",
       "      <td>Matt Damon|Franka Potente|Brian Cox|Julia Stil...</td>\n",
       "      <td>Paul Greengrass</td>\n",
       "      <td>They should have left him alone.</td>\n",
       "      <td>When a CIA operation to purchase classified Ru...</td>\n",
       "      <td>108</td>\n",
       "      <td>Action|Drama|Thriller</td>\n",
       "      <td>Universal Pictures|The Kennedy/Marshall Compan...</td>\n",
       "      <td>7/23/2004</td>\n",
       "      <td>7.1</td>\n",
       "      <td>2004</td>\n",
       "    </tr>\n",
       "    <tr>\n",
       "      <th>156</th>\n",
       "      <td>tt1924435</td>\n",
       "      <td>17000000</td>\n",
       "      <td>136621271</td>\n",
       "      <td>Let's Be Cops</td>\n",
       "      <td>Jake Johnson|Damon Wayans Jr.|Nina Dobrev|Rob ...</td>\n",
       "      <td>Luke Greenfield</td>\n",
       "      <td>Fake Cops. Real Trouble.</td>\n",
       "      <td>It's the ultimate buddy cop movie except for o...</td>\n",
       "      <td>104</td>\n",
       "      <td>Comedy</td>\n",
       "      <td>Twentieth Century Fox Film Corporation|WideAwa...</td>\n",
       "      <td>8/13/2014</td>\n",
       "      <td>6.4</td>\n",
       "      <td>2014</td>\n",
       "    </tr>\n",
       "  </tbody>\n",
       "</table>\n",
       "</div>"
      ],
      "text/plain": [
       "        imdb_id     budget    revenue        original_title  \\\n",
       "112   tt1018765   28000000    7002261   Our Brand Is Crisis   \n",
       "2     tt2908446  110000000  295238201             Insurgent   \n",
       "1868  tt0204175   16000000   20627372        Boys and Girls   \n",
       "1566  tt0372183   75000000  288500217  The Bourne Supremacy   \n",
       "156   tt1924435   17000000  136621271         Let's Be Cops   \n",
       "\n",
       "                                                   cast            director  \\\n",
       "112   Sandra Bullock|Anthony Mackie|Billy Bob Thornt...  David Gordon Green   \n",
       "2     Shailene Woodley|Theo James|Kate Winslet|Ansel...    Robert Schwentke   \n",
       "1868  Freddie Prinze Jr.|Claire Forlani|Jason Biggs|...       Robert Iscove   \n",
       "1566  Matt Damon|Franka Potente|Brian Cox|Julia Stil...     Paul Greengrass   \n",
       "156   Jake Johnson|Damon Wayans Jr.|Nina Dobrev|Rob ...     Luke Greenfield   \n",
       "\n",
       "                               tagline  \\\n",
       "112         May the best campaign win.   \n",
       "2           One Choice Can Destroy You   \n",
       "1868   Warning: Sex Changes Everything   \n",
       "1566  They should have left him alone.   \n",
       "156           Fake Cops. Real Trouble.   \n",
       "\n",
       "                                               overview  runtime  \\\n",
       "112   A feature film based on the documentary \"Our B...      108   \n",
       "2     Beatrice Prior must confront her inner demons ...      119   \n",
       "1868  Ryan and Jennifer are opposites who definitely...       94   \n",
       "1566  When a CIA operation to purchase classified Ru...      108   \n",
       "156   It's the ultimate buddy cop movie except for o...      104   \n",
       "\n",
       "                                  genres  \\\n",
       "112                         Drama|Comedy   \n",
       "2     Adventure|Science Fiction|Thriller   \n",
       "1868                Comedy|Drama|Romance   \n",
       "1566               Action|Drama|Thriller   \n",
       "156                               Comedy   \n",
       "\n",
       "                                   production_companies release_date  \\\n",
       "112               Participant Media|Smokehouse Pictures    9/11/2015   \n",
       "2     Summit Entertainment|Mandeville Films|Red Wago...    3/18/2015   \n",
       "1868                                    Dimension Films    6/16/2000   \n",
       "1566  Universal Pictures|The Kennedy/Marshall Compan...    7/23/2004   \n",
       "156   Twentieth Century Fox Film Corporation|WideAwa...    8/13/2014   \n",
       "\n",
       "      vote_average  release_year  \n",
       "112            5.7          2015  \n",
       "2              6.3          2015  \n",
       "1868           5.3          2000  \n",
       "1566           7.1          2004  \n",
       "156            6.4          2014  "
      ]
     },
     "execution_count": 133,
     "metadata": {},
     "output_type": "execute_result"
    }
   ],
   "source": [
    "data = pd.read_csv('movie_bd_v5.csv')\n",
    "data.sample(5)"
   ]
  },
  {
   "cell_type": "code",
   "execution_count": 134,
   "metadata": {},
   "outputs": [
    {
     "name": "stdout",
     "output_type": "stream",
     "text": [
      "<class 'pandas.core.frame.DataFrame'>\n",
      "RangeIndex: 1889 entries, 0 to 1888\n",
      "Data columns (total 14 columns):\n",
      " #   Column                Non-Null Count  Dtype  \n",
      "---  ------                --------------  -----  \n",
      " 0   imdb_id               1889 non-null   object \n",
      " 1   budget                1889 non-null   int64  \n",
      " 2   revenue               1889 non-null   int64  \n",
      " 3   original_title        1889 non-null   object \n",
      " 4   cast                  1889 non-null   object \n",
      " 5   director              1889 non-null   object \n",
      " 6   tagline               1889 non-null   object \n",
      " 7   overview              1889 non-null   object \n",
      " 8   runtime               1889 non-null   int64  \n",
      " 9   genres                1889 non-null   object \n",
      " 10  production_companies  1889 non-null   object \n",
      " 11  release_date          1889 non-null   object \n",
      " 12  vote_average          1889 non-null   float64\n",
      " 13  release_year          1889 non-null   int64  \n",
      "dtypes: float64(1), int64(4), object(9)\n",
      "memory usage: 206.7+ KB\n"
     ]
    }
   ],
   "source": [
    "data.info()"
   ]
  },
  {
   "cell_type": "markdown",
   "metadata": {
    "colab_type": "text",
    "id": "DTIt7ezGVp-G"
   },
   "source": [
    "# Предобработка"
   ]
  },
  {
   "cell_type": "code",
   "execution_count": 135,
   "metadata": {
    "colab": {},
    "colab_type": "code",
    "id": "jNb40DwKVp-H"
   },
   "outputs": [],
   "source": [
    "answers = {} # создадим словарь для ответов\n",
    "\n",
    "# тут другие ваши предобработки колонок например:\n",
    "\n",
    "# the time given in the dataset is in string format.\n",
    "# So we need to change this in datetime format\n",
    "data.release_date = data.release_date.apply(lambda x:pd.to_datetime(x))\n",
    "\n",
    "# добавляем колонку \"profit\" = revenue - budget\n",
    "data['profit'] = data.revenue - data.budget"
   ]
  },
  {
   "cell_type": "markdown",
   "metadata": {
    "colab_type": "text",
    "id": "YxZaH-nPVp-L"
   },
   "source": [
    "# 1. У какого фильма из списка самый большой бюджет?"
   ]
  },
  {
   "cell_type": "markdown",
   "metadata": {
    "colab_type": "text",
    "id": "Nd-G5gX6Vp-M"
   },
   "source": [
    "Использовать варианты ответов в коде решения запрещено.    \n",
    "Вы думаете и в жизни у вас будут варианты ответов?)"
   ]
  },
  {
   "cell_type": "code",
   "execution_count": 136,
   "metadata": {
    "colab": {},
    "colab_type": "code",
    "id": "uVnXAY5RVp-O"
   },
   "outputs": [],
   "source": [
    "# в словарь вставляем номер вопроса и ваш ответ на него\n",
    "# Пример: \n",
    "answers['1'] = '2. Spider-Man 3 (tt0413300)'\n",
    "# запишите свой вариант ответа\n",
    "answers['1'] = 'Pirates of the Caribbean: On Stranger Tides'\n",
    "# если ответили верно, можете добавить комментарий со значком \"+\""
   ]
  },
  {
   "cell_type": "code",
   "execution_count": 137,
   "metadata": {
    "colab": {},
    "colab_type": "code",
    "id": "dZwb3m28Vp-S"
   },
   "outputs": [
    {
     "name": "stdout",
     "output_type": "stream",
     "text": [
      "Pirates of the Caribbean: On Stranger Tides\n"
     ]
    }
   ],
   "source": [
    "# тут пишем ваш код для решения данного вопроса:\n",
    "answer_cell = data[data.budget == data.budget.max()].original_title \n",
    "print(*answer_cell)"
   ]
  },
  {
   "cell_type": "markdown",
   "metadata": {
    "colab_type": "text",
    "id": "K7L3nbRXVp-X"
   },
   "source": [
    "ВАРИАНТ 2"
   ]
  },
  {
   "cell_type": "code",
   "execution_count": 138,
   "metadata": {
    "colab": {},
    "colab_type": "code",
    "id": "OGaoQI7rVp-X"
   },
   "outputs": [
    {
     "name": "stdout",
     "output_type": "stream",
     "text": [
      "The most expensive film is \"Pirates of the Caribbean: On Stranger Tides\"\n"
     ]
    }
   ],
   "source": [
    "# можно добавлять разные варианты решения\n",
    "result_movie = list(data[data.budget == data.budget.max()].original_title)[0]\n",
    "\n",
    "print(f'The most expensive film is \"{result_movie}\"')"
   ]
  },
  {
   "cell_type": "markdown",
   "metadata": {
    "colab_type": "text",
    "id": "FNRbbI3vVp-c"
   },
   "source": [
    "# 2. Какой из фильмов самый длительный (в минутах)?"
   ]
  },
  {
   "cell_type": "code",
   "execution_count": 139,
   "metadata": {
    "colab": {},
    "colab_type": "code",
    "id": "vHAoEXNTVp-d"
   },
   "outputs": [],
   "source": [
    "# думаю логику работы с этим словарем вы уже поняли, \n",
    "# по этому не буду больше его дублировать"
   ]
  },
  {
   "cell_type": "code",
   "execution_count": 140,
   "metadata": {},
   "outputs": [
    {
     "name": "stdout",
     "output_type": "stream",
     "text": [
      "The longest movie is \"Gods and Generals\"\n"
     ]
    }
   ],
   "source": [
    "result_movie = list(data[data.runtime == data.runtime.max()].original_title)[0]\n",
    "\n",
    "answers['2'] = result_movie\n",
    "print(f'''The longest movie is \"{result_movie}\"''')"
   ]
  },
  {
   "cell_type": "markdown",
   "metadata": {
    "colab_type": "text",
    "id": "bapLlpW8Vp-k"
   },
   "source": [
    "# 3. Какой из фильмов самый короткий (в минутах)?\n",
    "\n",
    "\n",
    "\n"
   ]
  },
  {
   "cell_type": "code",
   "execution_count": 141,
   "metadata": {
    "colab": {},
    "colab_type": "code",
    "id": "YBxaSHuAVp-l"
   },
   "outputs": [
    {
     "name": "stdout",
     "output_type": "stream",
     "text": [
      "The shortest movie is \"Winnie the Pooh\"\n"
     ]
    }
   ],
   "source": [
    "result_movie = list(data[data.runtime == data.runtime.min()].original_title)[0]\n",
    "\n",
    "answers['3'] = result_movie\n",
    "print(f'''The shortest movie is \"{result_movie}\"''')"
   ]
  },
  {
   "cell_type": "markdown",
   "metadata": {
    "colab_type": "text",
    "id": "TfQbxbfNVp-p"
   },
   "source": [
    "# 4. Какова средняя длительность фильмов?\n"
   ]
  },
  {
   "cell_type": "code",
   "execution_count": 142,
   "metadata": {
    "colab": {},
    "colab_type": "code",
    "id": "5K6dKZYVVp-q"
   },
   "outputs": [
    {
     "name": "stdout",
     "output_type": "stream",
     "text": [
      "Avg duration = ~109.7 Min\n"
     ]
    }
   ],
   "source": [
    "result = data.runtime.mean()\n",
    "\n",
    "answers['4'] = round(result, 1)\n",
    "print(f'''Avg duration = ~{result:.1f} Min''')"
   ]
  },
  {
   "cell_type": "markdown",
   "metadata": {
    "colab_type": "text",
    "id": "r5TvbnT_Vp-u"
   },
   "source": [
    "# 5. Каково медианное значение длительности фильмов? "
   ]
  },
  {
   "cell_type": "code",
   "execution_count": 143,
   "metadata": {
    "colab": {},
    "colab_type": "code",
    "id": "iBROplKnVp-v"
   },
   "outputs": [
    {
     "name": "stdout",
     "output_type": "stream",
     "text": [
      "Median duration = 107.0 Min\n"
     ]
    }
   ],
   "source": [
    "result = data.runtime.median()\n",
    "\n",
    "answers['5'] = round(result, 1)\n",
    "print(f'''Median duration = {result:.1f} Min''')"
   ]
  },
  {
   "cell_type": "markdown",
   "metadata": {
    "colab_type": "text",
    "id": "39P-deDSVp-y"
   },
   "source": [
    "# 6. Какой самый прибыльный фильм?\n",
    "#### Внимание! Здесь и далее под «прибылью» или «убытками» понимается разность между сборами и бюджетом фильма. (прибыль = сборы - бюджет) в нашем датасете это будет (profit = revenue - budget) "
   ]
  },
  {
   "cell_type": "code",
   "execution_count": 144,
   "metadata": {
    "colab": {},
    "colab_type": "code",
    "id": "UYZh4T9WVp-y"
   },
   "outputs": [
    {
     "name": "stdout",
     "output_type": "stream",
     "text": [
      "The most profitable movie is \"Avatar\"\n"
     ]
    }
   ],
   "source": [
    "# лучше код получения столбца profit вынести в Предобработку что в начале\n",
    "\n",
    "result_movie = list(data[data.profit == data.profit.max()].original_title)[0]\n",
    "\n",
    "answers['6'] = result_movie\n",
    "print(f'''The most profitable movie is \"{result_movie}\"''')"
   ]
  },
  {
   "cell_type": "markdown",
   "metadata": {
    "colab_type": "text",
    "id": "M99JmIX4Vp-2"
   },
   "source": [
    "# 7. Какой фильм самый убыточный? "
   ]
  },
  {
   "cell_type": "code",
   "execution_count": 145,
   "metadata": {
    "colab": {},
    "colab_type": "code",
    "id": "w-D2m4XPVp-3"
   },
   "outputs": [
    {
     "name": "stdout",
     "output_type": "stream",
     "text": [
      "The least profitable movie is \"The Lone Ranger\"\n"
     ]
    }
   ],
   "source": [
    "result_movie = list(data[data.profit == data.profit.min()].original_title)[0]\n",
    "\n",
    "answers['7'] = result_movie\n",
    "print(f'''The least profitable movie is \"{result_movie}\"''')"
   ]
  },
  {
   "cell_type": "markdown",
   "metadata": {
    "colab_type": "text",
    "id": "wEOM5ERVVp-6"
   },
   "source": [
    "# 8. У скольких фильмов из датасета объем сборов оказался выше бюджета?"
   ]
  },
  {
   "cell_type": "code",
   "execution_count": 146,
   "metadata": {
    "colab": {},
    "colab_type": "code",
    "id": "y00_7HD6Vp-7"
   },
   "outputs": [
    {
     "name": "stdout",
     "output_type": "stream",
     "text": [
      "Number movies | profit > budget = 1478\n"
     ]
    }
   ],
   "source": [
    "# вытаскиваем количество таких фильмов из вывода describe()\n",
    "result = int(data[data.revenue > data.budget].describe()['budget'][0])\n",
    "\n",
    "answers['8'] = result\n",
    "print(f'''Number movies | profit > budget = {result}''')"
   ]
  },
  {
   "cell_type": "markdown",
   "metadata": {
    "colab_type": "text",
    "id": "xhpspA9KVp_A"
   },
   "source": [
    "# 9. Какой фильм оказался самым кассовым в 2008 году?"
   ]
  },
  {
   "cell_type": "code",
   "execution_count": 147,
   "metadata": {
    "colab": {},
    "colab_type": "code",
    "id": "MoUyQr9RVp_B"
   },
   "outputs": [
    {
     "name": "stdout",
     "output_type": "stream",
     "text": [
      "The movie of 2008 with max revenue is \"The Dark Knight\"\n"
     ]
    }
   ],
   "source": [
    "year_to_query = 2008\n",
    "\n",
    "# создаём DF с фильмами конерктного года выпуска year_to_query\n",
    "df_refined_rls_yr = data.query('release_year == '+ str(year_to_query))\n",
    "\n",
    "result_movie = list(df_refined_rls_yr[df_refined_rls_yr['revenue']\\\n",
    "                                      == df_refined_rls_yr['revenue']\\\n",
    "                                      .max()].original_title)[0]\n",
    "\n",
    "answers['9'] = result_movie\n",
    "print(f'''The movie of {year_to_query} with max revenue is \"{result_movie}\"''')"
   ]
  },
  {
   "cell_type": "markdown",
   "metadata": {
    "colab_type": "text",
    "id": "Zi4hDKidVp_F"
   },
   "source": [
    "# 10. Самый убыточный фильм за период с 2012 по 2014 г. (включительно)?"
   ]
  },
  {
   "cell_type": "code",
   "execution_count": 169,
   "metadata": {
    "colab": {},
    "colab_type": "code",
    "id": "XqyRmufJVp_F"
   },
   "outputs": [
    {
     "name": "stdout",
     "output_type": "stream",
     "text": [
      "The movie of 2012-2014 with min profit is \"The Lone Ranger\"\n"
     ]
    }
   ],
   "source": [
    "year_to_query_start = 2012\n",
    "year_to_query_end = 2014\n",
    "\n",
    "# создаём DF с фильмами годов выпуска year_to_query_start до year_to_query_end включительно\n",
    "df_refined_rls_yrs = data.query(str(year_to_query_start)\\\n",
    "                                + '<= release_year <='\\\n",
    "                                + str(year_to_query_end))\n",
    "\n",
    "result_movie =\\\n",
    "list(df_refined_rls_yrs[df_refined_rls_yrs['profit']\\\n",
    "                        == df_refined_rls_yrs['profit']\\\n",
    "                        .min()].original_title)[0]\n",
    "\n",
    "answers['10'] = result_movie\n",
    "print(f'''The movie of {year_to_query_start}-{year_to_query_end} with min profit is \"{result_movie}\"''')"
   ]
  },
  {
   "cell_type": "markdown",
   "metadata": {
    "colab_type": "text",
    "id": "EA7Sa9dkVp_I"
   },
   "source": [
    "# 11. Какого жанра фильмов больше всего?"
   ]
  },
  {
   "cell_type": "code",
   "execution_count": 149,
   "metadata": {
    "colab": {},
    "colab_type": "code",
    "id": "zsJAwJ8QVp_J"
   },
   "outputs": [
    {
     "name": "stdout",
     "output_type": "stream",
     "text": [
      "Most popular genre is \"drama\"\n"
     ]
    }
   ],
   "source": [
    "# эту задачу тоже можно решать разными подходами, попробуй реализовать разные варианты\n",
    "# если будешь добавлять функцию - выноси ее в предобработку что в начале\n",
    "\n",
    "#  Вариант без использования pd.explode() и pd.str.split()\n",
    "#  Составляем список уникальных жанров lst_unique\n",
    "lst_cumulative_genres=[]\n",
    "for str_merged in list(data.genres.unique()):\n",
    "    for elem in str_merged.split('|'):\n",
    "        lst_cumulative_genres.append(elem)\n",
    "lst_unique=list(set(lst_cumulative_genres))\n",
    "\n",
    "# Инициализируем словарь количества вхождений того или иного жанра\n",
    "dict_genre_occurencies = dict()\n",
    "\n",
    "for elem in lst_unique:\n",
    "    dict_genre_occurencies[elem] = 0\n",
    "\n",
    "# Считаем для каждого жанра количество вхождений и сохраняем в словарь\n",
    "for cell in data.genres:\n",
    "    for genre in lst_unique:\n",
    "        if genre in str(cell):\n",
    "              dict_genre_occurencies[genre]+=1\n",
    "\n",
    "# В словаре находим жанр с максимальным количеством упоминаний\n",
    "maxkey = ''\n",
    "maxvalue = 0\n",
    "for key, value in dict_genre_occurencies.items():\n",
    "    if int(value) >= maxvalue:\n",
    "        maxkey = key\n",
    "        maxvalue = value\n",
    "\n",
    "print(f'Most popular genre is \"{maxkey.lower()}\"')"
   ]
  },
  {
   "cell_type": "markdown",
   "metadata": {
    "colab_type": "text",
    "id": "Ax6g2C8SVp_M"
   },
   "source": [
    "ВАРИАНТ 2"
   ]
  },
  {
   "cell_type": "code",
   "execution_count": 150,
   "metadata": {
    "colab": {},
    "colab_type": "code",
    "id": "otO3SbrSVp_N"
   },
   "outputs": [
    {
     "name": "stdout",
     "output_type": "stream",
     "text": [
      "Most popular genre is \"drama\"\n"
     ]
    }
   ],
   "source": [
    "# Решение средствами pandas\n",
    "# разделяем str с жанрами по разделителю '|', и разворачиваем по жанру\n",
    "result_genre = data['genres'].str.split('|').explode().mode()[0]\n",
    "\n",
    "answers['11'] = result_genre\n",
    "print(f'Most popular genre is \"{result_genre.lower()}\"')"
   ]
  },
  {
   "cell_type": "markdown",
   "metadata": {
    "colab_type": "text",
    "id": "T9_bPWpkVp_Q"
   },
   "source": [
    "# 12. Фильмы какого жанра чаще всего становятся прибыльными? "
   ]
  },
  {
   "cell_type": "code",
   "execution_count": 151,
   "metadata": {
    "colab": {},
    "colab_type": "code",
    "id": "Tmt8MaK1Vp_R"
   },
   "outputs": [
    {
     "name": "stdout",
     "output_type": "stream",
     "text": [
      "Most profitable genre is \"drama\"\n"
     ]
    }
   ],
   "source": [
    "# выбираем только прибыльные (profit > 0) фильмы\n",
    "data_profitable_movies = data[data['profit'] > 0]\n",
    "\n",
    "result_genre = data_profitable_movies['genres']\\\n",
    ".str.split('|').explode().value_counts().index[0]\n",
    "\n",
    "answers['12'] = result_genre\n",
    "print(f'Most profitable genre is \"{result_genre.lower()}\"')"
   ]
  },
  {
   "cell_type": "markdown",
   "metadata": {
    "colab_type": "text",
    "id": "0F23bgsDVp_U"
   },
   "source": [
    "# 13. У какого режиссера самые большие суммарные кассовые сборы?"
   ]
  },
  {
   "cell_type": "code",
   "execution_count": 152,
   "metadata": {
    "colab": {},
    "colab_type": "code",
    "id": "K6Z3J8ygVp_X"
   },
   "outputs": [
    {
     "name": "stdout",
     "output_type": "stream",
     "text": [
      "The director who produce the max cumulative revenue is Peter Jackson\n"
     ]
    }
   ],
   "source": [
    "# группируем по режиссёрам и вытаскиваем по каждому сумму кассовых сборов\n",
    "result_director = data.groupby(['director']).revenue.sum()\\\n",
    ".sort_values(ascending=False).index[0]\n",
    "\n",
    "answers['13'] = result_director\n",
    "print(f'The director who produce the max cumulative revenue is {result_director}')"
   ]
  },
  {
   "cell_type": "markdown",
   "metadata": {
    "colab_type": "text",
    "id": "PsYC9FgRVp_a"
   },
   "source": [
    "# 14. Какой режисер снял больше всего фильмов в стиле Action?"
   ]
  },
  {
   "cell_type": "code",
   "execution_count": 153,
   "metadata": {
    "colab": {},
    "colab_type": "code",
    "id": "wd2M-wHeVp_b"
   },
   "outputs": [
    {
     "name": "stdout",
     "output_type": "stream",
     "text": [
      "The director who filmed most of action movies is Robert Rodriguez\n"
     ]
    }
   ],
   "source": [
    "genre_to_query=\"Action\"\n",
    "\n",
    "# собираем в DF data_selected_genre только фильмы жанра genre_to_query\n",
    "data_selected_genre = data[data.genres.str.contains(genre_to_query)]\n",
    "\n",
    "result_director = data_selected_genre.director.str.split('|').explode()\\\n",
    ".value_counts().sort_values(ascending = False).index[0]\n",
    "\n",
    "answers['14'] = result_director\n",
    "print(f'The director who filmed most of {genre_to_query.lower()} movies is {result_director}')"
   ]
  },
  {
   "cell_type": "markdown",
   "metadata": {
    "colab_type": "text",
    "id": "PQ0KciD7Vp_f"
   },
   "source": [
    "# 15. Фильмы с каким актером принесли самые высокие кассовые сборы в 2012 году? "
   ]
  },
  {
   "cell_type": "code",
   "execution_count": 154,
   "metadata": {},
   "outputs": [
    {
     "name": "stdout",
     "output_type": "stream",
     "text": [
      "The artist who contributed to the max revenue in the year 2012 is Chris Hemsworth\n"
     ]
    },
    {
     "name": "stderr",
     "output_type": "stream",
     "text": [
      "<ipython-input-154-754a4d7c4c22>:7: SettingWithCopyWarning: \n",
      "A value is trying to be set on a copy of a slice from a DataFrame.\n",
      "Try using .loc[row_indexer,col_indexer] = value instead\n",
      "\n",
      "See the caveats in the documentation: https://pandas.pydata.org/pandas-docs/stable/user_guide/indexing.html#returning-a-view-versus-a-copy\n",
      "  df['cast'] = df['cast'].str.split('|')\n"
     ]
    }
   ],
   "source": [
    "release_year_to_query = 2012\n",
    "\n",
    "# пишем во временный DataFrame df только данные о фильмах года выпуска release_year_to_query\n",
    "df = data[data['release_year'] == release_year_to_query]\n",
    "\n",
    "# разделяем список актёров по |\n",
    "df['cast'] = df['cast'].str.split('|')\n",
    "\n",
    "# разворачиваем df по списку актёров\n",
    "df = df.explode('cast')\n",
    "\n",
    "result_artist = df.groupby(['cast']).revenue.sum()\\\n",
    ".sort_values(ascending=False).index[0]\n",
    "\n",
    "answers['15'] = result_artist\n",
    "print(f'The artist who contributed to the max revenue in the year {release_year_to_query} is {result_artist}')"
   ]
  },
  {
   "cell_type": "markdown",
   "metadata": {
    "colab_type": "text",
    "id": "mWHyyL7QVp_j"
   },
   "source": [
    "# 16. Какой актер снялся в большем количестве высокобюджетных фильмов?"
   ]
  },
  {
   "cell_type": "code",
   "execution_count": 155,
   "metadata": {
    "colab": {},
    "colab_type": "code",
    "id": "qQtmHKTFVp_k"
   },
   "outputs": [
    {
     "name": "stdout",
     "output_type": "stream",
     "text": [
      "The artist who was filmed in the largest amount of high budget films is Matt Damon\n"
     ]
    }
   ],
   "source": [
    "# используем describe(), чтобы вытащить 50%-квантиль (соотв. высокобюджетным фильмам)\n",
    "result_artist = data[data['budget'] > data['budget'].describe()[5]].cast\\\n",
    ".str.split('|').explode().mode()[0]\n",
    "\n",
    "answers['16'] = result_artist\n",
    "print(f'The artist who was filmed in the largest amount of high budget films is {result_artist}')"
   ]
  },
  {
   "cell_type": "markdown",
   "metadata": {
    "colab_type": "text",
    "id": "NIh6AaW5Vp_n"
   },
   "source": [
    "# 17. В фильмах какого жанра больше всего снимался Nicolas Cage? "
   ]
  },
  {
   "cell_type": "code",
   "execution_count": 156,
   "metadata": {
    "colab": {},
    "colab_type": "code",
    "id": "H74SJDIBVp_n"
   },
   "outputs": [
    {
     "name": "stdout",
     "output_type": "stream",
     "text": [
      "The genre, which Nicolas Cage was mostly filmed in is: action\n"
     ]
    }
   ],
   "source": [
    "artist_to_query = \"Nicolas Cage\"\n",
    "\n",
    "# используем str.contains(), чтобы не усложнять через str.split('|') и explode()\n",
    "result_genre = data[data['cast'].str.contains(artist_to_query)]['genres']\\\n",
    ".str.split('|').explode().mode()[0]\n",
    "\n",
    "answers['17'] = result_genre\n",
    "print(f'The genre, which {artist_to_query} was mostly filmed in is: {result_genre.lower()}')"
   ]
  },
  {
   "cell_type": "markdown",
   "metadata": {
    "colab_type": "text",
    "id": "RqOmPRfWVp_q"
   },
   "source": [
    "# 18. Самый убыточный фильм от Paramount Pictures"
   ]
  },
  {
   "cell_type": "code",
   "execution_count": 157,
   "metadata": {
    "colab": {},
    "colab_type": "code",
    "id": "9E_B0Y96Vp_r"
   },
   "outputs": [
    {
     "name": "stdout",
     "output_type": "stream",
     "text": [
      "The least profitably film of Paramount Pictures is \"K-19: The Widowmaker\"\n"
     ]
    }
   ],
   "source": [
    "company_to_query = \"Paramount Pictures\"\n",
    "\n",
    "# через iloc[0] вытаскиваем по номеру индекса искомое значение из сорт. объекта\n",
    "result_movie = data[data['production_companies'].str.contains(company_to_query)]\\\n",
    ".sort_values(['profit'], ascending='False').original_title.iloc[0]\n",
    "\n",
    "answers['18'] = result_movie\n",
    "print(f'The least profitably film of {company_to_query} is \"{result_movie}\"')"
   ]
  },
  {
   "cell_type": "markdown",
   "metadata": {
    "colab_type": "text",
    "id": "vS8Ur6ddVp_u"
   },
   "source": [
    "# 19. Какой год стал самым успешным по суммарным кассовым сборам?"
   ]
  },
  {
   "cell_type": "code",
   "execution_count": 158,
   "metadata": {
    "colab": {},
    "colab_type": "code",
    "id": "Dnbt4GdIVp_v"
   },
   "outputs": [
    {
     "name": "stdout",
     "output_type": "stream",
     "text": [
      "The year of max cumulative revenue is 2015\n"
     ]
    }
   ],
   "source": [
    "# интереса ради не меняем порядок сортировки, вытаскиваем с конца первый элем.\n",
    "result_year = data.groupby(['release_year']).revenue.sum()\\\n",
    ".sort_values().index[-1]\n",
    "\n",
    "answers['19'] = result_year\n",
    "print(f'The year of max cumulative revenue is {result_year}')"
   ]
  },
  {
   "cell_type": "markdown",
   "metadata": {
    "colab_type": "text",
    "id": "JAzJh4QAVp_z"
   },
   "source": [
    "# 20. Какой самый прибыльный год для студии Warner Bros?"
   ]
  },
  {
   "cell_type": "code",
   "execution_count": 159,
   "metadata": {
    "colab": {},
    "colab_type": "code",
    "id": "wgVu02DEVp_0"
   },
   "outputs": [
    {
     "name": "stdout",
     "output_type": "stream",
     "text": [
      "The most profitably year for Warner Bros is 2014\n"
     ]
    }
   ],
   "source": [
    "production_company_to_query = \"Warner Bros\"\n",
    "\n",
    "result_year =\\\n",
    "data[data['production_companies'].str.contains(production_company_to_query)]\\\n",
    ".groupby(['release_year']).profit.sum().sort_values().index[-1]\n",
    "\n",
    "answers['20'] = result_year\n",
    "print(f'The most profitably year for {production_company_to_query} is {result_year}')"
   ]
  },
  {
   "cell_type": "markdown",
   "metadata": {
    "colab_type": "text",
    "id": "8Im1S2HRVp_4"
   },
   "source": [
    "# 21. В каком месяце за все годы суммарно вышло больше всего фильмов?"
   ]
  },
  {
   "cell_type": "code",
   "execution_count": 160,
   "metadata": {},
   "outputs": [
    {
     "name": "stdout",
     "output_type": "stream",
     "text": [
      "The most productive month over all years is September\n"
     ]
    }
   ],
   "source": [
    "# используем calendar.month_name(), чтобы получить назв. месяца вместо номера\n",
    "result_month = month_name[data['release_date'].dt.month.value_counts()\\\n",
    "                          .sort_values(ascending=False).index[0]]\n",
    "\n",
    "answers['21'] = result_month\n",
    "print(f'The most productive month over all years is {result_month}')"
   ]
  },
  {
   "cell_type": "markdown",
   "metadata": {
    "colab_type": "text",
    "id": "uAJsZ_NeVp_7"
   },
   "source": [
    "# 22. Сколько суммарно вышло фильмов летом? (за июнь, июль, август)"
   ]
  },
  {
   "cell_type": "code",
   "execution_count": 161,
   "metadata": {
    "colab": {},
    "colab_type": "code",
    "id": "Aa-hEREoVp_8"
   },
   "outputs": [
    {
     "name": "stdout",
     "output_type": "stream",
     "text": [
      "The number of movies released in summer is 450\n"
     ]
    }
   ],
   "source": [
    "# shape[0] возвр. кол-во индексов фильрованного по летним (6-8) месяцам DF\n",
    "result = data.loc[(data['release_date'].dt.month >= 6)\\\n",
    "                  & (data['release_date'].dt.month <= 8)].shape[0]\n",
    "\n",
    "answers['22'] = result\n",
    "print(f'The number of movies released in summer is {result}')"
   ]
  },
  {
   "cell_type": "markdown",
   "metadata": {
    "colab_type": "text",
    "id": "G94ppOY1VqAA"
   },
   "source": [
    "# 23. Для какого режиссера зима – самое продуктивное время года? "
   ]
  },
  {
   "cell_type": "code",
   "execution_count": 162,
   "metadata": {
    "colab": {},
    "colab_type": "code",
    "id": "RhNTsamuVqAB"
   },
   "outputs": [
    {
     "name": "stdout",
     "output_type": "stream",
     "text": [
      "Winter is the most productive season for the director Peter Jackson\n"
     ]
    }
   ],
   "source": [
    "# выбираем только записи с зимними релизами\n",
    "df_winter = data.loc[(data['release_date'].dt.month == (12 or 1 or 2))]\n",
    "result_director = df_winter.director.str.split('|')\\\n",
    ".explode().value_counts().index[0]\n",
    "\n",
    "answers['23'] = result_director\n",
    "print(f'Winter is the most productive season for the director {result_director}')"
   ]
  },
  {
   "cell_type": "markdown",
   "metadata": {
    "colab_type": "text",
    "id": "RBo0JVjVVqAF"
   },
   "source": [
    "# 24. Какая студия дает самые длинные названия своим фильмам по количеству символов?"
   ]
  },
  {
   "cell_type": "code",
   "execution_count": 163,
   "metadata": {
    "colab": {},
    "colab_type": "code",
    "id": "QRGS8L0iVqAG"
   },
   "outputs": [
    {
     "name": "stdout",
     "output_type": "stream",
     "text": [
      "Production company(ies):\n",
      "\tFour By Two Productions, Twentieth Century Fox Film Corporation\n",
      "give(s) the longest film names (acc. to chars count)\n"
     ]
    }
   ],
   "source": [
    "# создаём столбец с длинами названий и добавляем его к копии DF data\n",
    "title_length = data['original_title'].apply(lambda s:len(s))\n",
    "df_tmp = data.copy()\n",
    "df_tmp['title_length'] = title_length\n",
    "\n",
    "df_tmp['production_companies'] = df_tmp['production_companies'].str.split('|')\n",
    "df_tmp = df_tmp.explode('production_companies')\n",
    "\n",
    "# определяем максимальную длину из всех названий\n",
    "max_length = df_tmp['title_length'].max()\n",
    "# группируем по компаниям, сортируем по длинам названий\n",
    "df_companies_longest_title_len =\\\n",
    "pd.DataFrame(df_tmp.groupby('production_companies')['title_length'].max()\\\n",
    "             .sort_values(ascending=False))\n",
    "# вытаскиваем искомые студии\n",
    "result_companies =\\\n",
    "df_companies_longest_title_len[df_companies_longest_title_len['title_length']\\\n",
    "                               == max_length].index.tolist()\n",
    "\n",
    "answers['24'] = result_companies\n",
    "print(f'Production company(ies):\\n\\t{\", \".join(str(elem) for elem in result_companies)}\\ngive(s) the longest film names (acc. to chars count)')"
   ]
  },
  {
   "cell_type": "markdown",
   "metadata": {
    "colab_type": "text",
    "id": "9G0hbvR7VqAK"
   },
   "source": [
    "# 25. Описание фильмов какой студии в среднем самые длинные по количеству слов?"
   ]
  },
  {
   "cell_type": "code",
   "execution_count": 164,
   "metadata": {
    "colab": {},
    "colab_type": "code",
    "id": "Ge2GsLNxVqAK"
   },
   "outputs": [
    {
     "name": "stdout",
     "output_type": "stream",
     "text": [
      "Production company(ies):\n",
      "\tMidnight Picture Show\n",
      "give(s) the longest mean film overview (acc. to words count)\n"
     ]
    }
   ],
   "source": [
    "# по аналогии с предыдущим, только здесь берём mean() вместо max()\n",
    "overview_word_count = data['overview'].apply(lambda s:len(s.split()))\n",
    "\n",
    "df_tmp = data.copy()\n",
    "df_tmp['overview_word_count'] = overview_word_count\n",
    "\n",
    "df_tmp['production_companies'] = df_tmp['production_companies'].str.split('|')\n",
    "df_tmp = df_tmp.explode('production_companies')\n",
    "\n",
    "\n",
    "df_long_overv_mean_word_count =\\\n",
    "pd.DataFrame(df_tmp.groupby('production_companies')['overview_word_count']\\\n",
    "             .mean().sort_values(ascending=False))\n",
    "max_length = df_long_overv_mean_word_count.max()[0]\n",
    "\n",
    "result_companies =\\\n",
    "df_long_overv_mean_word_count[df_long_overv_mean_word_count['overview_word_count']\\\n",
    "                              == max_length].index.tolist()\n",
    "\n",
    "answers['25'] = result_companies\n",
    "print(f'Production company(ies):\\n\\t{\", \".join(str(elem) for elem in result_companies)}\\ngive(s) the longest mean film overview (acc. to words count)')"
   ]
  },
  {
   "cell_type": "markdown",
   "metadata": {
    "colab_type": "text",
    "id": "FJ1AFt90VqAP"
   },
   "source": [
    "# 26. Какие фильмы входят в 1 процент лучших по рейтингу? \n",
    "по vote_average"
   ]
  },
  {
   "cell_type": "code",
   "execution_count": 165,
   "metadata": {
    "colab": {},
    "colab_type": "code",
    "id": "8qmJVq4CVqAQ"
   },
   "outputs": [
    {
     "name": "stdout",
     "output_type": "stream",
     "text": [
      "1% Top Movie(ies) by average vote:\n",
      "Inside Out, Room, Interstellar, Guardians of the Galaxy, The Imitation Game, Gone Girl, The Grand Budapest Hotel, Inception, The Dark Knight, The Pianist, The Lord of the Rings: The Return of the King, The Wolf of Wall Street, 12 Years a Slave, Memento\n"
     ]
    }
   ],
   "source": [
    "# 1 процент лучших - по 99% перцентилю, из вывода describe()\n",
    "result_movies = data[data['vote_average'] > data['vote_average']\\\n",
    "                     .describe(percentiles=[0.99])[5]].original_title.tolist()\n",
    "\n",
    "answers['26'] = result_movies\n",
    "print(f'1% Top Movie(ies) by average vote:\\n{\", \".join(str(elem) for elem in result_movies)}')"
   ]
  },
  {
   "cell_type": "markdown",
   "metadata": {
    "colab_type": "text",
    "id": "MdXsUXbCVqAV"
   },
   "source": [
    "# 27. Какие актеры чаще всего снимаются в одном фильме вместе?\n"
   ]
  },
  {
   "cell_type": "code",
   "execution_count": 166,
   "metadata": {},
   "outputs": [
    {
     "name": "stdout",
     "output_type": "stream",
     "text": [
      "Most frequently occurred artist pair(s):\n",
      "[('Daniel Radcliffe', 'Rupert Grint'), ('Daniel Radcliffe', 'Emma Watson')]\n"
     ]
    }
   ],
   "source": [
    "# разделяем актёров по '|' и сразу составляем комбинации по двум\n",
    "df_tmp = data.copy()\n",
    "df_tmp['cast'] = data['cast'].str.split('|')\n",
    "df_tmp['cast'] = df_tmp['cast'].apply(lambda x: list(combinations(x, 2)))\n",
    "df_tmp['cast'].explode().mode()\n",
    "df_result_pair = pd.DataFrame(df_tmp['cast'].explode().value_counts())\n",
    "max_occurence = df_result_pair.max()[0]\n",
    "\n",
    "result = df_result_pair[df_result_pair['cast'] == max_occurence].index.tolist()\n",
    "answers['27'] = result\n",
    "print(f'Most frequently occurred artist pair(s):\\n{result}')"
   ]
  },
  {
   "cell_type": "markdown",
   "metadata": {
    "colab_type": "text",
    "id": "U0nONFnGVqAX"
   },
   "source": [
    "# Submission"
   ]
  },
  {
   "cell_type": "code",
   "execution_count": 170,
   "metadata": {
    "colab": {},
    "colab_type": "code",
    "id": "IfcaRO9-VqAX",
    "outputId": "0f132912-32bb-4196-c98c-abfbc4ad5a5f"
   },
   "outputs": [
    {
     "data": {
      "text/plain": [
       "{'1': 'Pirates of the Caribbean: On Stranger Tides',\n",
       " '2': 'Gods and Generals',\n",
       " '3': 'Winnie the Pooh',\n",
       " '4': 109.7,\n",
       " '5': 107.0,\n",
       " '6': 'Avatar',\n",
       " '7': 'The Lone Ranger',\n",
       " '8': 1478,\n",
       " '9': 'The Dark Knight',\n",
       " '11': 'Drama',\n",
       " '12': 'Drama',\n",
       " '13': 'Peter Jackson',\n",
       " '14': 'Robert Rodriguez',\n",
       " '15': 'Chris Hemsworth',\n",
       " '16': 'Matt Damon',\n",
       " '17': 'Action',\n",
       " '18': 'K-19: The Widowmaker',\n",
       " '19': 2015,\n",
       " '20': 2014,\n",
       " '21': 'September',\n",
       " '22': 450,\n",
       " '23': 'Peter Jackson',\n",
       " '24': ['Four By Two Productions', 'Twentieth Century Fox Film Corporation'],\n",
       " '25': ['Midnight Picture Show'],\n",
       " '26': ['Inside Out',\n",
       "  'Room',\n",
       "  'Interstellar',\n",
       "  'Guardians of the Galaxy',\n",
       "  'The Imitation Game',\n",
       "  'Gone Girl',\n",
       "  'The Grand Budapest Hotel',\n",
       "  'Inception',\n",
       "  'The Dark Knight',\n",
       "  'The Pianist',\n",
       "  'The Lord of the Rings: The Return of the King',\n",
       "  'The Wolf of Wall Street',\n",
       "  '12 Years a Slave',\n",
       "  'Memento'],\n",
       " '27': [('Daniel Radcliffe', 'Rupert Grint'),\n",
       "  ('Daniel Radcliffe', 'Emma Watson')],\n",
       " '10': 'The Lone Ranger'}"
      ]
     },
     "execution_count": 170,
     "metadata": {},
     "output_type": "execute_result"
    }
   ],
   "source": [
    "# в конце можно посмотреть свои ответы к каждому вопросу\n",
    "answers"
   ]
  },
  {
   "cell_type": "code",
   "execution_count": 171,
   "metadata": {
    "colab": {},
    "colab_type": "code",
    "id": "SiRmHPl8VqAd"
   },
   "outputs": [
    {
     "data": {
      "text/plain": [
       "27"
      ]
     },
     "execution_count": 171,
     "metadata": {},
     "output_type": "execute_result"
    }
   ],
   "source": [
    "# и убедиться что ни чего не пропустил)\n",
    "len(answers)"
   ]
  },
  {
   "cell_type": "code",
   "execution_count": null,
   "metadata": {},
   "outputs": [],
   "source": []
  }
 ],
 "metadata": {
  "colab": {
   "name": "Copy of [SF-DST] Movies IMBD v4.1 TEMPLATE.ipynb",
   "provenance": []
  },
  "kernelspec": {
   "display_name": "Python 3",
   "language": "python",
   "name": "python3"
  },
  "language_info": {
   "codemirror_mode": {
    "name": "ipython",
    "version": 3
   },
   "file_extension": ".py",
   "mimetype": "text/x-python",
   "name": "python",
   "nbconvert_exporter": "python",
   "pygments_lexer": "ipython3",
   "version": "3.8.5"
  }
 },
 "nbformat": 4,
 "nbformat_minor": 4
}
